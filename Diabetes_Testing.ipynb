{
  "nbformat": 4,
  "nbformat_minor": 0,
  "metadata": {
    "colab": {
      "provenance": []
    },
    "kernelspec": {
      "name": "python3",
      "display_name": "Python 3"
    },
    "language_info": {
      "name": "python"
    }
  },
  "cells": [
    {
      "cell_type": "code",
      "source": [
        "import joblib\n",
        "\n",
        "# Load each model\n",
        "lr_model = joblib.load('logistic_regression_model.pkl')\n",
        "knn_model = joblib.load('knn_model.pkl')\n",
        "rf_model = joblib.load('random_forest_model.pkl')\n",
        "dt_model = joblib.load('decision_tree_model.pkl')\n",
        "\n",
        "# Load the scaler\n",
        "scaler = joblib.load('scaler.pkl')\n"
      ],
      "metadata": {
        "id": "A4Qr31WFFfBj"
      },
      "execution_count": 1,
      "outputs": []
    },
    {
      "cell_type": "code",
      "execution_count": 2,
      "metadata": {
        "colab": {
          "base_uri": "https://localhost:8080/"
        },
        "id": "BwUDDaSMFL7f",
        "outputId": "70cf572b-bcd0-4b06-b6ab-6ccc32c8e691"
      },
      "outputs": [
        {
          "output_type": "stream",
          "name": "stdout",
          "text": [
            "Logistic Regression Prediction: Not Diabetic\n",
            "KNN Prediction: Not Diabetic\n",
            "Random Forest Prediction: Not Diabetic\n",
            "Decision Tree Prediction: Not Diabetic\n"
          ]
        },
        {
          "output_type": "stream",
          "name": "stderr",
          "text": [
            "/usr/local/lib/python3.10/dist-packages/sklearn/base.py:465: UserWarning: X does not have valid feature names, but StandardScaler was fitted with feature names\n",
            "  warnings.warn(\n",
            "/usr/local/lib/python3.10/dist-packages/sklearn/base.py:465: UserWarning: X does not have valid feature names, but RandomForestClassifier was fitted with feature names\n",
            "  warnings.warn(\n",
            "/usr/local/lib/python3.10/dist-packages/sklearn/base.py:465: UserWarning: X does not have valid feature names, but DecisionTreeClassifier was fitted with feature names\n",
            "  warnings.warn(\n"
          ]
        }
      ],
      "source": [
        "import numpy as np\n",
        "\n",
        "sample_input = np.array([[1, 45, 0, 0, 2, 26.5, 5.7, 120]])\n",
        "\n",
        "\n",
        "sample_input_scaled = scaler.transform(sample_input)\n",
        "\n",
        "\n",
        "lr_prediction = lr_model.predict(sample_input_scaled)\n",
        "knn_prediction = knn_model.predict(sample_input_scaled)\n",
        "rf_prediction = rf_model.predict(sample_input_scaled)\n",
        "dt_prediction = dt_model.predict(sample_input_scaled)\n",
        "\n",
        "\n",
        "\n",
        "print(f\"Logistic Regression Prediction: {'Diabetic' if lr_prediction[0] == 1 else 'Not Diabetic'}\")\n",
        "print(f\"KNN Prediction: {'Diabetic' if knn_prediction[0] == 1 else 'Not Diabetic'}\")\n",
        "print(f\"Random Forest Prediction: {'Diabetic' if rf_prediction[0] == 1 else 'Not Diabetic'}\")\n",
        "print(f\"Decision Tree Prediction: {'Diabetic' if dt_prediction[0] == 1 else 'Not Diabetic'}\")\n"
      ]
    }
  ]
}